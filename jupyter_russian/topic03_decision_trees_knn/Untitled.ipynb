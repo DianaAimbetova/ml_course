{
 "cells": [
  {
   "cell_type": "code",
   "execution_count": 2,
   "metadata": {},
   "outputs": [
    {
     "name": "stdout",
     "output_type": "stream",
     "text": [
      "Please enter an number: 9\n"
     ]
    },
    {
     "name": "stderr",
     "output_type": "stream",
     "text": [
      "ERROR:root:No traceback has been produced, nothing to debug.\n",
      "ERROR:root:No traceback has been produced, nothing to debug.\n",
      "ERROR:root:No traceback has been produced, nothing to debug.\n",
      "ERROR:root:No traceback has been produced, nothing to debug.\n",
      "ERROR:root:No traceback has been produced, nothing to debug.\n",
      "ERROR:root:No traceback has been produced, nothing to debug.\n",
      "ERROR:root:No traceback has been produced, nothing to debug.\n",
      "ERROR:root:No traceback has been produced, nothing to debug.\n",
      "ERROR:root:No traceback has been produced, nothing to debug.\n",
      "ERROR:root:No traceback has been produced, nothing to debug.\n",
      "ERROR:root:No traceback has been produced, nothing to debug.\n",
      "ERROR:root:No traceback has been produced, nothing to debug.\n",
      "ERROR:root:No traceback has been produced, nothing to debug.\n",
      "ERROR:root:No traceback has been produced, nothing to debug.\n",
      "ERROR:root:No traceback has been produced, nothing to debug.\n",
      "ERROR:root:No traceback has been produced, nothing to debug.\n",
      "ERROR:root:No traceback has been produced, nothing to debug.\n",
      "ERROR:root:No traceback has been produced, nothing to debug.\n",
      "ERROR:root:No traceback has been produced, nothing to debug.\n",
      "ERROR:root:No traceback has been produced, nothing to debug.\n",
      "ERROR:root:No traceback has been produced, nothing to debug.\n",
      "ERROR:root:No traceback has been produced, nothing to debug.\n",
      "ERROR:root:No traceback has been produced, nothing to debug.\n",
      "ERROR:root:No traceback has been produced, nothing to debug.\n",
      "ERROR:root:No traceback has been produced, nothing to debug.\n",
      "ERROR:root:No traceback has been produced, nothing to debug.\n",
      "ERROR:root:No traceback has been produced, nothing to debug.\n",
      "ERROR:root:No traceback has been produced, nothing to debug.\n",
      "ERROR:root:No traceback has been produced, nothing to debug.\n",
      "ERROR:root:No traceback has been produced, nothing to debug.\n",
      "ERROR:root:No traceback has been produced, nothing to debug.\n",
      "ERROR:root:No traceback has been produced, nothing to debug.\n",
      "ERROR:root:No traceback has been produced, nothing to debug.\n"
     ]
    },
    {
     "name": "stdout",
     "output_type": "stream",
     "text": [
      "21\n"
     ]
    }
   ],
   "source": [
    "start_number = int(input(\"Please enter an number: \"))\n",
    "def Fibonacci(n): \n",
    "    if n<0: \n",
    "        print(\"Incorrect input\") \n",
    "    # First Fibonacci number is 0 \n",
    "    elif n==1: \n",
    "        return 0\n",
    "    # Second Fibonacci number is 1 \n",
    "    elif n==2: \n",
    "        return 1\n",
    "    else: \n",
    "        return Fibonacci(n-1)+Fibonacci(n-2) \n",
    "    \n",
    "print(Fibonacci(start_number))"
   ]
  },
  {
   "cell_type": "code",
   "execution_count": null,
   "metadata": {},
   "outputs": [],
   "source": []
  }
 ],
 "metadata": {
  "kernelspec": {
   "display_name": "Python 3",
   "language": "python",
   "name": "python3"
  },
  "language_info": {
   "codemirror_mode": {
    "name": "ipython",
    "version": 3
   },
   "file_extension": ".py",
   "mimetype": "text/x-python",
   "name": "python",
   "nbconvert_exporter": "python",
   "pygments_lexer": "ipython3",
   "version": "3.7.3"
  }
 },
 "nbformat": 4,
 "nbformat_minor": 2
}
