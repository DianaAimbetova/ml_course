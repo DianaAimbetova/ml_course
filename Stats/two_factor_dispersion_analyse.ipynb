{
 "cells": [
  {
   "cell_type": "markdown",
   "metadata": {},
   "source": [
    "## Двухфакторный дисперсионный анализ"
   ]
  },
  {
   "cell_type": "code",
   "execution_count": 40,
   "metadata": {},
   "outputs": [],
   "source": [
    "import numpy as np\n",
    "import pandas as pd\n",
    "import matplotlib.pyplot as plt\n",
    "import seaborn as sns\n",
    "import scipy.stats as stats"
   ]
  },
  {
   "cell_type": "code",
   "execution_count": 109,
   "metadata": {},
   "outputs": [],
   "source": [
    "df = pd.read_csv('atherosclerosis.csv')"
   ]
  },
  {
   "cell_type": "code",
   "execution_count": 42,
   "metadata": {},
   "outputs": [
    {
     "data": {
      "text/html": [
       "<div>\n",
       "<style scoped>\n",
       "    .dataframe tbody tr th:only-of-type {\n",
       "        vertical-align: middle;\n",
       "    }\n",
       "\n",
       "    .dataframe tbody tr th {\n",
       "        vertical-align: top;\n",
       "    }\n",
       "\n",
       "    .dataframe thead th {\n",
       "        text-align: right;\n",
       "    }\n",
       "</style>\n",
       "<table border=\"1\" class=\"dataframe\">\n",
       "  <thead>\n",
       "    <tr style=\"text-align: right;\">\n",
       "      <th></th>\n",
       "      <th>expr</th>\n",
       "      <th>age</th>\n",
       "      <th>dose</th>\n",
       "    </tr>\n",
       "  </thead>\n",
       "  <tbody>\n",
       "    <tr>\n",
       "      <th>44</th>\n",
       "      <td>110.833715</td>\n",
       "      <td>1</td>\n",
       "      <td>D2</td>\n",
       "    </tr>\n",
       "    <tr>\n",
       "      <th>18</th>\n",
       "      <td>94.290992</td>\n",
       "      <td>2</td>\n",
       "      <td>D1</td>\n",
       "    </tr>\n",
       "    <tr>\n",
       "      <th>2</th>\n",
       "      <td>103.435134</td>\n",
       "      <td>1</td>\n",
       "      <td>D1</td>\n",
       "    </tr>\n",
       "    <tr>\n",
       "      <th>38</th>\n",
       "      <td>109.626718</td>\n",
       "      <td>1</td>\n",
       "      <td>D2</td>\n",
       "    </tr>\n",
       "    <tr>\n",
       "      <th>22</th>\n",
       "      <td>97.030269</td>\n",
       "      <td>2</td>\n",
       "      <td>D1</td>\n",
       "    </tr>\n",
       "  </tbody>\n",
       "</table>\n",
       "</div>"
      ],
      "text/plain": [
       "          expr  age dose\n",
       "44  110.833715    1   D2\n",
       "18   94.290992    2   D1\n",
       "2   103.435134    1   D1\n",
       "38  109.626718    1   D2\n",
       "22   97.030269    2   D1"
      ]
     },
     "execution_count": 42,
     "metadata": {},
     "output_type": "execute_result"
    }
   ],
   "source": [
    "df.sample(5)"
   ]
  },
  {
   "cell_type": "code",
   "execution_count": 43,
   "metadata": {},
   "outputs": [],
   "source": [
    "table = pd.DataFrame(columns=['Age', 'Dose','N', 'M', 'SD'])"
   ]
  },
  {
   "cell_type": "code",
   "execution_count": 44,
   "metadata": {},
   "outputs": [],
   "source": [
    "table['Age'] = ['Young', 'Old','Young', 'Old']"
   ]
  },
  {
   "cell_type": "code",
   "execution_count": 45,
   "metadata": {},
   "outputs": [],
   "source": [
    "table.loc[table.index == 0, 'Dose'] ='High'\n",
    "table.loc[table.index == 1, 'Dose'] ='High'\n",
    "table.loc[table.index == 2, 'Dose'] ='Low'\n",
    "table.loc[table.index == 3, 'Dose'] ='Low'"
   ]
  },
  {
   "cell_type": "code",
   "execution_count": 62,
   "metadata": {},
   "outputs": [],
   "source": [
    "table.loc[(table.Age == 'Young') & (table.Dose == 'High') , 'N'] = df[(df['dose']=='D2') & (df['age'] == 1)]['expr'].count()"
   ]
  },
  {
   "cell_type": "code",
   "execution_count": 63,
   "metadata": {},
   "outputs": [],
   "source": [
    "table.loc[(table.Age == 'Young') & (table.Dose == 'Low') , 'N'] = df[(df['dose']=='D1') & (df['age'] == 1)]['expr'].count()"
   ]
  },
  {
   "cell_type": "code",
   "execution_count": 64,
   "metadata": {},
   "outputs": [],
   "source": [
    "table.loc[(table.Age == 'Old') & (table.Dose == 'High') , 'N'] = df[(df['dose']=='D2') & (df['age'] == 2)]['expr'].count()"
   ]
  },
  {
   "cell_type": "code",
   "execution_count": 65,
   "metadata": {},
   "outputs": [],
   "source": [
    "table.loc[(table.Age == 'Old') & (table.Dose == 'Low') , 'N'] = df[(df['dose']=='D2') & (df['age'] == 1)]['expr'].count()"
   ]
  },
  {
   "cell_type": "code",
   "execution_count": 66,
   "metadata": {},
   "outputs": [],
   "source": [
    "table.loc[(table.Age == 'Young') & (table.Dose == 'High') , 'M'] = df[(df['dose']=='D2') & (df['age'] == 1)]['expr'].median()"
   ]
  },
  {
   "cell_type": "code",
   "execution_count": 67,
   "metadata": {},
   "outputs": [],
   "source": [
    "table.loc[(table.Age == 'Young') & (table.Dose == 'Low') , 'M'] = df[(df['dose']=='D1') & (df['age'] == 1)]['expr'].median()"
   ]
  },
  {
   "cell_type": "code",
   "execution_count": 68,
   "metadata": {},
   "outputs": [],
   "source": [
    "table.loc[(table.Age == 'Old') & (table.Dose == 'High') , 'M'] = df[(df['dose']=='D2') & (df['age'] == 2)]['expr'].median()"
   ]
  },
  {
   "cell_type": "code",
   "execution_count": 69,
   "metadata": {},
   "outputs": [],
   "source": [
    "table.loc[(table.Age == 'Old') & (table.Dose == 'Low') , 'M'] = df[(df['dose']=='D2') & (df['age'] == 1)]['expr'].median()"
   ]
  },
  {
   "cell_type": "code",
   "execution_count": 71,
   "metadata": {},
   "outputs": [],
   "source": [
    "table.loc[(table.Age == 'Young') & (table.Dose == 'High') , 'SD'] = df[(df['dose']=='D2') & (df['age'] == 1)]['expr'].std()"
   ]
  },
  {
   "cell_type": "code",
   "execution_count": 72,
   "metadata": {},
   "outputs": [],
   "source": [
    "table.loc[(table.Age == 'Young') & (table.Dose == 'Low') , 'SD'] = df[(df['dose']=='D1') & (df['age'] == 1)]['expr'].std()"
   ]
  },
  {
   "cell_type": "code",
   "execution_count": 73,
   "metadata": {},
   "outputs": [],
   "source": [
    "table.loc[(table.Age == 'Old') & (table.Dose == 'High') , 'SD'] = df[(df['dose']=='D2') & (df['age'] == 2)]['expr'].std()"
   ]
  },
  {
   "cell_type": "code",
   "execution_count": 74,
   "metadata": {},
   "outputs": [],
   "source": [
    "table.loc[(table.Age == 'Old') & (table.Dose == 'Low') , 'SD'] = df[(df['dose']=='D2') & (df['age'] == 1)]['expr'].std()"
   ]
  },
  {
   "cell_type": "code",
   "execution_count": 76,
   "metadata": {},
   "outputs": [
    {
     "data": {
      "text/html": [
       "<div>\n",
       "<style scoped>\n",
       "    .dataframe tbody tr th:only-of-type {\n",
       "        vertical-align: middle;\n",
       "    }\n",
       "\n",
       "    .dataframe tbody tr th {\n",
       "        vertical-align: top;\n",
       "    }\n",
       "\n",
       "    .dataframe thead th {\n",
       "        text-align: right;\n",
       "    }\n",
       "</style>\n",
       "<table border=\"1\" class=\"dataframe\">\n",
       "  <thead>\n",
       "    <tr style=\"text-align: right;\">\n",
       "      <th></th>\n",
       "      <th>Age</th>\n",
       "      <th>Dose</th>\n",
       "      <th>N</th>\n",
       "      <th>M</th>\n",
       "      <th>SD</th>\n",
       "    </tr>\n",
       "  </thead>\n",
       "  <tbody>\n",
       "    <tr>\n",
       "      <th>0</th>\n",
       "      <td>Young</td>\n",
       "      <td>High</td>\n",
       "      <td>16</td>\n",
       "      <td>106.551</td>\n",
       "      <td>4.36902</td>\n",
       "    </tr>\n",
       "    <tr>\n",
       "      <th>1</th>\n",
       "      <td>Old</td>\n",
       "      <td>High</td>\n",
       "      <td>16</td>\n",
       "      <td>101.875</td>\n",
       "      <td>5.13537</td>\n",
       "    </tr>\n",
       "    <tr>\n",
       "      <th>2</th>\n",
       "      <td>Young</td>\n",
       "      <td>Low</td>\n",
       "      <td>16</td>\n",
       "      <td>104.779</td>\n",
       "      <td>5.86345</td>\n",
       "    </tr>\n",
       "    <tr>\n",
       "      <th>3</th>\n",
       "      <td>Old</td>\n",
       "      <td>Low</td>\n",
       "      <td>16</td>\n",
       "      <td>106.551</td>\n",
       "      <td>4.36902</td>\n",
       "    </tr>\n",
       "  </tbody>\n",
       "</table>\n",
       "</div>"
      ],
      "text/plain": [
       "     Age  Dose   N        M       SD\n",
       "0  Young  High  16  106.551  4.36902\n",
       "1    Old  High  16  101.875  5.13537\n",
       "2  Young   Low  16  104.779  5.86345\n",
       "3    Old   Low  16  106.551  4.36902"
      ]
     },
     "execution_count": 76,
     "metadata": {},
     "output_type": "execute_result"
    }
   ],
   "source": [
    "table.head()"
   ]
  },
  {
   "cell_type": "code",
   "execution_count": 133,
   "metadata": {},
   "outputs": [
    {
     "name": "stderr",
     "output_type": "stream",
     "text": [
      "C:\\Users\\Diana_Aimbetova\\AppData\\Local\\Continuum\\anaconda3\\lib\\site-packages\\ipykernel_launcher.py:13: DeprecationWarning: Calling np.sum(generator) is deprecated, and in the future will give a different result. Use np.sum(np.fromiter(generator)) or the python sum builtin instead.\n",
      "  del sys.path[0]\n"
     ]
    },
    {
     "data": {
      "text/html": [
       "<div>\n",
       "<style scoped>\n",
       "    .dataframe tbody tr th:only-of-type {\n",
       "        vertical-align: middle;\n",
       "    }\n",
       "\n",
       "    .dataframe tbody tr th {\n",
       "        vertical-align: top;\n",
       "    }\n",
       "\n",
       "    .dataframe thead th {\n",
       "        text-align: right;\n",
       "    }\n",
       "</style>\n",
       "<table border=\"1\" class=\"dataframe\">\n",
       "  <thead>\n",
       "    <tr style=\"text-align: right;\">\n",
       "      <th></th>\n",
       "      <th>Factors</th>\n",
       "      <th>DF</th>\n",
       "      <th>Sum sq</th>\n",
       "      <th>Mean sq</th>\n",
       "      <th>f-value</th>\n",
       "      <th>p-value</th>\n",
       "    </tr>\n",
       "  </thead>\n",
       "  <tbody>\n",
       "    <tr>\n",
       "      <th>0</th>\n",
       "      <td>age</td>\n",
       "      <td>1</td>\n",
       "      <td>197.453</td>\n",
       "      <td>197.453</td>\n",
       "      <td>6.67089</td>\n",
       "      <td>0.0122143</td>\n",
       "    </tr>\n",
       "    <tr>\n",
       "      <th>1</th>\n",
       "      <td>dose</td>\n",
       "      <td>1</td>\n",
       "      <td>16.9122</td>\n",
       "      <td>16.9122</td>\n",
       "      <td>0.571375</td>\n",
       "      <td>0.452622</td>\n",
       "    </tr>\n",
       "    <tr>\n",
       "      <th>2</th>\n",
       "      <td>Residuals</td>\n",
       "      <td>61</td>\n",
       "      <td>1805.55</td>\n",
       "      <td>29.5992</td>\n",
       "      <td>NaN</td>\n",
       "      <td>NaN</td>\n",
       "    </tr>\n",
       "  </tbody>\n",
       "</table>\n",
       "</div>"
      ],
      "text/plain": [
       "     Factors  DF   Sum sq  Mean sq   f-value    p-value\n",
       "0        age   1  197.453  197.453   6.67089  0.0122143\n",
       "1       dose   1  16.9122  16.9122  0.571375   0.452622\n",
       "2  Residuals  61  1805.55  29.5992       NaN        NaN"
      ]
     },
     "execution_count": 133,
     "metadata": {},
     "output_type": "execute_result"
    }
   ],
   "source": [
    "def two_factor_dispersion(df, first_factor, second_factor, depended_factor):\n",
    "    # Calculate count\n",
    "    N = df[first_factor].count()\n",
    "    m_a = df[first_factor].nunique()\n",
    "    m_b = df[second_factor].nunique()\n",
    "    # Calculate degrees of freedom\n",
    "    df_total = N-1\n",
    "    df_a = m_a - 1\n",
    "    df_b = m_b - 1\n",
    "    df_residuals = df_total - (df_a + df_b) \n",
    "    df_mean = df[depended_factor].mean()\n",
    "    # Calculate sum of squares\n",
    "    SSW = np.sum((elem - df_mean)**2 for elem in df[depended_factor])\n",
    "    SSBa = np.sum([(df[df[first_factor] == ff_cat][depended_factor].mean()-df_mean)**2 for ff_cat in df[first_factor]])\n",
    "    SSBb = np.sum([(df[df[second_factor] == sf_cat][depended_factor].mean() - df_mean)**2 for sf_cat in df[second_factor]])\n",
    "    SStotal = SSW + SSBa + SSBb + (SSBa*SSBb)\n",
    "    # Calculate mean square\n",
    "    MSA = SSBa/df_a\n",
    "    MSB = SSBb/df_b\n",
    "    MSW = SSW/df_residuals\n",
    "    # Calcaulte f-value\n",
    "    FA = MSA/MSW\n",
    "    FB = MSB/MSW\n",
    "    # Calculate p-value\n",
    "    p_a = stats.f.sf(FA, df_a, df_residuals)\n",
    "    p_b = stats.f.sf(FB, df_b, df_residuals)\n",
    "    # Combine values to one table\n",
    "    table = pd.DataFrame(columns = ['Factors', 'DF', 'Sum sq', 'Mean sq', 'f-value', 'p-value'])\n",
    "    table['Factors'] = [first_factor, second_factor, 'Residuals']\n",
    "    table.loc[table['Factors'] ==first_factor,'DF'] = df_a\n",
    "    table.loc[table['Factors'] == second_factor,'DF'] = df_b\n",
    "    table.loc[table['Factors'] =='Residuals','DF'] = df_residuals\n",
    "    table.loc[table['Factors'] == first_factor,'Sum sq'] = SSBa\n",
    "    table.loc[table['Factors'] == second_factor,'Sum sq'] = SSBb\n",
    "    table.loc[table['Factors'] =='Residuals','Sum sq'] = SSW\n",
    "    table.loc[table['Factors'] == first_factor,'Mean sq'] = MSA\n",
    "    table.loc[table['Factors'] == second_factor,'Mean sq'] = MSB\n",
    "    table.loc[table['Factors'] =='Residuals','Mean sq'] = MSW\n",
    "    table.loc[table['Factors'] == first_factor,'f-value'] = FA\n",
    "    table.loc[table['Factors'] == second_factor,'f-value'] = FB\n",
    "    table.loc[table['Factors'] == first_factor,'p-value'] = p_a\n",
    "    table.loc[table['Factors'] == second_factor,'p-value'] = p_b\n",
    "    return table\n",
    "two_factor_dispersion(df,'age', 'dose', 'expr')"
   ]
  },
  {
   "cell_type": "code",
   "execution_count": 134,
   "metadata": {},
   "outputs": [],
   "source": [
    "df_2 = pd.read_csv('birds.csv')"
   ]
  },
  {
   "cell_type": "code",
   "execution_count": 135,
   "metadata": {},
   "outputs": [
    {
     "data": {
      "text/html": [
       "<div>\n",
       "<style scoped>\n",
       "    .dataframe tbody tr th:only-of-type {\n",
       "        vertical-align: middle;\n",
       "    }\n",
       "\n",
       "    .dataframe tbody tr th {\n",
       "        vertical-align: top;\n",
       "    }\n",
       "\n",
       "    .dataframe thead th {\n",
       "        text-align: right;\n",
       "    }\n",
       "</style>\n",
       "<table border=\"1\" class=\"dataframe\">\n",
       "  <thead>\n",
       "    <tr style=\"text-align: right;\">\n",
       "      <th></th>\n",
       "      <th>var4</th>\n",
       "      <th>hormone</th>\n",
       "      <th>sex</th>\n",
       "    </tr>\n",
       "  </thead>\n",
       "  <tbody>\n",
       "    <tr>\n",
       "      <th>0</th>\n",
       "      <td>17.859039</td>\n",
       "      <td>1</td>\n",
       "      <td>1</td>\n",
       "    </tr>\n",
       "    <tr>\n",
       "      <th>1</th>\n",
       "      <td>20.842343</td>\n",
       "      <td>1</td>\n",
       "      <td>1</td>\n",
       "    </tr>\n",
       "    <tr>\n",
       "      <th>2</th>\n",
       "      <td>19.318099</td>\n",
       "      <td>1</td>\n",
       "      <td>1</td>\n",
       "    </tr>\n",
       "    <tr>\n",
       "      <th>3</th>\n",
       "      <td>20.064451</td>\n",
       "      <td>1</td>\n",
       "      <td>1</td>\n",
       "    </tr>\n",
       "    <tr>\n",
       "      <th>4</th>\n",
       "      <td>17.620316</td>\n",
       "      <td>1</td>\n",
       "      <td>1</td>\n",
       "    </tr>\n",
       "  </tbody>\n",
       "</table>\n",
       "</div>"
      ],
      "text/plain": [
       "        var4  hormone  sex\n",
       "0  17.859039        1    1\n",
       "1  20.842343        1    1\n",
       "2  19.318099        1    1\n",
       "3  20.064451        1    1\n",
       "4  17.620316        1    1"
      ]
     },
     "execution_count": 135,
     "metadata": {},
     "output_type": "execute_result"
    }
   ],
   "source": [
    "df_2.head()"
   ]
  },
  {
   "cell_type": "code",
   "execution_count": 136,
   "metadata": {},
   "outputs": [
    {
     "name": "stderr",
     "output_type": "stream",
     "text": [
      "C:\\Users\\Diana_Aimbetova\\AppData\\Local\\Continuum\\anaconda3\\lib\\site-packages\\ipykernel_launcher.py:13: DeprecationWarning: Calling np.sum(generator) is deprecated, and in the future will give a different result. Use np.sum(np.fromiter(generator)) or the python sum builtin instead.\n",
      "  del sys.path[0]\n"
     ]
    },
    {
     "data": {
      "text/html": [
       "<div>\n",
       "<style scoped>\n",
       "    .dataframe tbody tr th:only-of-type {\n",
       "        vertical-align: middle;\n",
       "    }\n",
       "\n",
       "    .dataframe tbody tr th {\n",
       "        vertical-align: top;\n",
       "    }\n",
       "\n",
       "    .dataframe thead th {\n",
       "        text-align: right;\n",
       "    }\n",
       "</style>\n",
       "<table border=\"1\" class=\"dataframe\">\n",
       "  <thead>\n",
       "    <tr style=\"text-align: right;\">\n",
       "      <th></th>\n",
       "      <th>Factors</th>\n",
       "      <th>DF</th>\n",
       "      <th>Sum sq</th>\n",
       "      <th>Mean sq</th>\n",
       "      <th>f-value</th>\n",
       "      <th>p-value</th>\n",
       "    </tr>\n",
       "  </thead>\n",
       "  <tbody>\n",
       "    <tr>\n",
       "      <th>0</th>\n",
       "      <td>hormone</td>\n",
       "      <td>1</td>\n",
       "      <td>0.847472</td>\n",
       "      <td>0.847472</td>\n",
       "      <td>0.0762361</td>\n",
       "      <td>0.783398</td>\n",
       "    </tr>\n",
       "    <tr>\n",
       "      <th>1</th>\n",
       "      <td>sex</td>\n",
       "      <td>1</td>\n",
       "      <td>0.119762</td>\n",
       "      <td>0.119762</td>\n",
       "      <td>0.0107735</td>\n",
       "      <td>0.917672</td>\n",
       "    </tr>\n",
       "    <tr>\n",
       "      <th>2</th>\n",
       "      <td>Residuals</td>\n",
       "      <td>61</td>\n",
       "      <td>678.101</td>\n",
       "      <td>11.1164</td>\n",
       "      <td>NaN</td>\n",
       "      <td>NaN</td>\n",
       "    </tr>\n",
       "  </tbody>\n",
       "</table>\n",
       "</div>"
      ],
      "text/plain": [
       "     Factors  DF    Sum sq   Mean sq    f-value   p-value\n",
       "0    hormone   1  0.847472  0.847472  0.0762361  0.783398\n",
       "1        sex   1  0.119762  0.119762  0.0107735  0.917672\n",
       "2  Residuals  61   678.101   11.1164        NaN       NaN"
      ]
     },
     "execution_count": 136,
     "metadata": {},
     "output_type": "execute_result"
    }
   ],
   "source": [
    "two_factor_dispersion(df_2,'hormone', 'sex', 'var4')"
   ]
  },
  {
   "cell_type": "code",
   "execution_count": null,
   "metadata": {},
   "outputs": [],
   "source": []
  }
 ],
 "metadata": {
  "kernelspec": {
   "display_name": "Python 3",
   "language": "python",
   "name": "python3"
  },
  "language_info": {
   "codemirror_mode": {
    "name": "ipython",
    "version": 3
   },
   "file_extension": ".py",
   "mimetype": "text/x-python",
   "name": "python",
   "nbconvert_exporter": "python",
   "pygments_lexer": "ipython3",
   "version": "3.7.3"
  }
 },
 "nbformat": 4,
 "nbformat_minor": 2
}
